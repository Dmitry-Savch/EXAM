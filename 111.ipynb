{
 "cells": [
  {
   "cell_type": "code",
   "execution_count": 6,
   "metadata": {},
   "outputs": [
    {
     "name": "stdout",
     "output_type": "stream",
     "text": [
      "{'Mathematics': {'grade': 5, 'comment': 'МОЛОДЕЦЬ'}}\n"
     ]
    }
   ],
   "source": [
    "class Person:\n",
    "    def __init__(self, name):\n",
    "        self.name = name\n",
    "\n",
    "\n",
    "class Student(Person):\n",
    "    def __init__(self, name, record_book_number):\n",
    "        super().__init__(name)\n",
    "        self.record_book_number = record_book_number\n",
    "        self.record_book = RecordBook()\n",
    "\n",
    "    def view_results(self):\n",
    "        return self.record_book.show_grades()\n",
    "\n",
    "\n",
    "class Instructor(Person):\n",
    "    def add_grade(self, record_book, subject, grade, comment=''):\n",
    "        record_book.add_grade(subject, grade, comment)\n",
    "\n",
    "\n",
    "class RecordBook:\n",
    "    def __init__(self):\n",
    "        self.grades = {}\n",
    "\n",
    "    def add_grade(self, subject, grade, comment):\n",
    "        self.grades[subject] = {'grade': grade, 'comment': comment}\n",
    "\n",
    "    def show_grades(self):\n",
    "        return self.grades\n",
    "\n",
    "student = Student('Ivan Ivanenko', '12345')\n",
    "instructor = Instructor('Maria Petrova')\n",
    "instructor.add_grade(student.record_book, 'Mathematics', 5, 'МОЛОДЕЦЬ')\n",
    "print(student.view_results())\n",
    "\n"
   ]
  }
 ],
 "metadata": {
  "kernelspec": {
   "display_name": "Python 3",
   "language": "python",
   "name": "python3"
  },
  "language_info": {
   "codemirror_mode": {
    "name": "ipython",
    "version": 3
   },
   "file_extension": ".py",
   "mimetype": "text/x-python",
   "name": "python",
   "nbconvert_exporter": "python",
   "pygments_lexer": "ipython3",
   "version": "3.11.5"
  }
 },
 "nbformat": 4,
 "nbformat_minor": 2
}
